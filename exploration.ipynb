{
 "cells": [
  {
   "cell_type": "code",
   "execution_count": 21,
   "id": "6669898b",
   "metadata": {},
   "outputs": [
    {
     "data": {
      "text/plain": [
       "Index(['FechaPlanInicioTransporte', 'RegionalDistribucion', 'IDCentro',\n",
       "       'CodigoCliente', 'DocumentoTransporte', 'Ordered_vol', 'ordered_boxes',\n",
       "       'Plan_Vol', 'plan_boxes'],\n",
       "      dtype='object')"
      ]
     },
     "execution_count": 21,
     "metadata": {},
     "output_type": "execute_result"
    }
   ],
   "source": [
    "import pandas as pd\n",
    "import numpy as np\n",
    "df = pd.read_csv('columbia_full.csv')\n",
    "df.columns"
   ]
  },
  {
   "cell_type": "code",
   "execution_count": null,
   "id": "2ef7084b",
   "metadata": {},
   "outputs": [],
   "source": [
    "regions = pd.unique(df['RegionalDistribucion'])\n",
    "n_centres = len(pd.unique(df['IDCentro']))\n",
    "print(f\"Regions: {regions}, Number of centres: {n_centres}\")"
   ]
  },
  {
   "cell_type": "code",
   "execution_count": null,
   "id": "ea3f4124",
   "metadata": {},
   "outputs": [],
   "source": [
    "df.groupby('CodigoCliente').size().sort_values(ascending=False) # Number of orders"
   ]
  },
  {
   "cell_type": "code",
   "execution_count": null,
   "id": "b1685692",
   "metadata": {},
   "outputs": [],
   "source": [
    "df.groupby('CodigoCliente')['ordered_boxes'].mean().sort_values(ascending=False).head(10)"
   ]
  },
  {
   "cell_type": "code",
   "execution_count": 22,
   "id": "9b7d008b",
   "metadata": {},
   "outputs": [],
   "source": [
    "\n",
    "medellin = (6.251290,-75.5812)\n",
    "bogota = (4.6100,-74.0833)"
   ]
  },
  {
   "cell_type": "code",
   "execution_count": null,
   "id": "b89e9dea",
   "metadata": {},
   "outputs": [],
   "source": [
    "from math import radians, cos, sin, asin, sqrt\n",
    "\n",
    "def haversine_own(lon1, lat1, lon2, lat2):\n",
    "    lat1, lon1, lat2, lon2 = map(radians, [lat1, lon1, lat2, lon2])\n",
    "    dlon = lon2 - lon1\n",
    "    dlat = lat2 - lat1\n",
    "    a = sin(dlat/2)**2 + cos(lat1) * cos(lat2) * sin(dlon/2)**2\n",
    "    c = 2 * asin(sqrt(a))\n",
    "    r = 6371  # Earth radius in km\n",
    "    return c * r\n"
   ]
  },
  {
   "cell_type": "code",
   "execution_count": null,
   "id": "f698c26f",
   "metadata": {},
   "outputs": [],
   "source": [
    "haversine_own(6.251290, -75.5812, 4.6100, -74.0833) # Medellin to Bogota"
   ]
  },
  {
   "cell_type": "code",
   "execution_count": null,
   "id": "99782f5c",
   "metadata": {},
   "outputs": [],
   "source": [
    "from haversine import haversine, Unit\n",
    "medellin = (6.251290,-75.5812)\n",
    "bogota = (4.6100,-74.0833)\n",
    "# This one is correct, ours isn't\n",
    "haversine(medellin, bogota, unit=Unit.KILOMETERS) # Medellin to Bogota"
   ]
  },
  {
   "cell_type": "code",
   "execution_count": null,
   "id": "73603a78",
   "metadata": {},
   "outputs": [],
   "source": [
    "import requests\n",
    "\n",
    "url = \"https://router.project-osrm.org/route/v1/driving/-74.0833,4.6100;-75.5812,6.251290?overview=false\" # driving makes it sure it's the car\n",
    "\n",
    "response = requests.get(url)\n",
    "data = response.json()\n",
    "\n",
    "distance_km = data['routes'][0]['distance'] / 1000  # in km\n",
    "duration_h = data['routes'][0]['duration'] / 3600   # in minutes\n",
    "\n",
    "print(f\"Distance: {distance_km:.2f} km\")\n",
    "print(f\"Duration: {duration_h:.1f} h\")"
   ]
  },
  {
   "cell_type": "code",
   "execution_count": null,
   "id": "0ec6d2d1",
   "metadata": {},
   "outputs": [],
   "source": [
    "def get_distance(frm, to):\n",
    "    \"\"\"Takes two points in the form of (lat, lon) and returns the distance and duration between them.\"\"\"\n",
    "    url = f\"https://router.project-osrm.org/route/v1/driving/{frm[1]},{frm[0]};{to[1]},{to[0]}?overview=false\"\n",
    "    response = requests.get(url)\n",
    "    data = response.json()\n",
    "    distance_km = data['routes'][0]['distance'] / 1000  # in km\n",
    "    duration_h = data['routes'][0]['duration'] / 3600   # in h\n",
    "    return distance_km, duration_h\n",
    "\n",
    "get_distance(bogota, medellin) # Medellin to Bogota"
   ]
  },
  {
   "cell_type": "code",
   "execution_count": 25,
   "id": "ca7fc550",
   "metadata": {},
   "outputs": [
    {
     "data": {
      "text/plain": [
       "(415.686, 6.407722222222222)"
      ]
     },
     "execution_count": 25,
     "metadata": {},
     "output_type": "execute_result"
    }
   ],
   "source": [
    "import utils\n",
    "utils.get_distance(bogota, medellin) # Medellin to Bogota"
   ]
  },
  {
   "cell_type": "code",
   "execution_count": null,
   "id": "1c90f715",
   "metadata": {},
   "outputs": [],
   "source": []
  }
 ],
 "metadata": {
  "kernelspec": {
   "display_name": ".venv",
   "language": "python",
   "name": "python3"
  },
  "language_info": {
   "codemirror_mode": {
    "name": "ipython",
    "version": 3
   },
   "file_extension": ".py",
   "mimetype": "text/x-python",
   "name": "python",
   "nbconvert_exporter": "python",
   "pygments_lexer": "ipython3",
   "version": "3.9.6"
  }
 },
 "nbformat": 4,
 "nbformat_minor": 5
}
