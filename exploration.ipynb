{
 "cells": [
  {
   "cell_type": "code",
   "execution_count": 14,
   "id": "6669898b",
   "metadata": {},
   "outputs": [
    {
     "data": {
      "text/plain": [
       "Index(['FechaPlanInicioTransporte', 'RegionalDistribucion', 'IDCentro',\n",
       "       'CodigoCliente', 'DocumentoTransporte', 'Ordered_vol', 'ordered_boxes',\n",
       "       'Plan_Vol', 'plan_boxes'],\n",
       "      dtype='object')"
      ]
     },
     "execution_count": 14,
     "metadata": {},
     "output_type": "execute_result"
    }
   ],
   "source": [
    "import pandas as pd\n",
    "import numpy as np\n",
    "\n",
    "df = pd.read_csv('columbia_full.csv')\n",
    "df.columns"
   ]
  },
  {
   "cell_type": "code",
   "execution_count": 9,
   "id": "2ef7084b",
   "metadata": {},
   "outputs": [
    {
     "name": "stdout",
     "output_type": "stream",
     "text": [
      "Regions: ['Sur' 'Centro' 'Norte' 'Andes'], Number of centres: 64\n"
     ]
    }
   ],
   "source": [
    "regions = pd.unique(df['RegionalDistribucion'])\n",
    "n_centres = len(pd.unique(df['IDCentro']))\n",
    "print(f\"Regions: {regions}, Number of centres: {n_centres}\")"
   ]
  },
  {
   "cell_type": "code",
   "execution_count": 18,
   "id": "ea3f4124",
   "metadata": {},
   "outputs": [
    {
     "data": {
      "text/plain": [
       "CodigoCliente\n",
       "13937684    231\n",
       "10359686    112\n",
       "11430868     97\n",
       "10151328     81\n",
       "10316879     69\n",
       "           ... \n",
       "12596356      1\n",
       "12596294      1\n",
       "12596293      1\n",
       "12596275      1\n",
       "14323128      1\n",
       "Length: 217343, dtype: int64"
      ]
     },
     "execution_count": 18,
     "metadata": {},
     "output_type": "execute_result"
    }
   ],
   "source": [
    "df.groupby('CodigoCliente').size().sort_values(ascending=False) # Number of orders"
   ]
  },
  {
   "cell_type": "code",
   "execution_count": 17,
   "id": "b1685692",
   "metadata": {},
   "outputs": [
    {
     "data": {
      "text/plain": [
       "CodigoCliente\n",
       "14048190    5100.000000\n",
       "12719444    3840.000000\n",
       "12291643    3756.500000\n",
       "11618884    3718.380952\n",
       "12549492    3240.000000\n",
       "12404538    3213.772727\n",
       "12291291    3202.000000\n",
       "12282136    3136.800000\n",
       "13778771    3072.000000\n",
       "13876309    3000.000000\n",
       "Name: ordered_boxes, dtype: float64"
      ]
     },
     "execution_count": 17,
     "metadata": {},
     "output_type": "execute_result"
    }
   ],
   "source": [
    "df.groupby('CodigoCliente')['ordered_boxes'].mean().sort_values(ascending=False).head(10)"
   ]
  },
  {
   "cell_type": "code",
   "execution_count": null,
   "id": "b89e9dea",
   "metadata": {},
   "outputs": [],
   "source": []
  }
 ],
 "metadata": {
  "kernelspec": {
   "display_name": ".venv",
   "language": "python",
   "name": "python3"
  },
  "language_info": {
   "codemirror_mode": {
    "name": "ipython",
    "version": 3
   },
   "file_extension": ".py",
   "mimetype": "text/x-python",
   "name": "python",
   "nbconvert_exporter": "python",
   "pygments_lexer": "ipython3",
   "version": "3.9.6"
  }
 },
 "nbformat": 4,
 "nbformat_minor": 5
}
