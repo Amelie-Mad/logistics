{
 "cells": [
  {
   "cell_type": "code",
   "execution_count": 1,
   "id": "6669898b",
   "metadata": {},
   "outputs": [
    {
     "data": {
      "text/plain": [
       "Index(['FechaPlanInicioTransporte', 'RegionalDistribucion', 'IDCentro',\n",
       "       'CodigoCliente', 'DocumentoTransporte', 'Ordered_vol', 'ordered_boxes',\n",
       "       'Plan_Vol', 'plan_boxes'],\n",
       "      dtype='object')"
      ]
     },
     "execution_count": 1,
     "metadata": {},
     "output_type": "execute_result"
    }
   ],
   "source": [
    "import pandas as pd\n",
    "import numpy as np\n",
    "df = pd.read_csv('columbia_full.csv')\n",
    "df.columns"
   ]
  },
  {
   "cell_type": "code",
   "execution_count": 2,
   "id": "2ef7084b",
   "metadata": {},
   "outputs": [
    {
     "name": "stdout",
     "output_type": "stream",
     "text": [
      "Regions: ['Sur' 'Centro' 'Norte' 'Andes'], Number of centres: 64\n"
     ]
    }
   ],
   "source": [
    "regions = pd.unique(df['RegionalDistribucion'])\n",
    "n_centres = len(pd.unique(df['IDCentro']))\n",
    "print(f\"Regions: {regions}, Number of centres: {n_centres}\")"
   ]
  },
  {
   "cell_type": "code",
   "execution_count": 3,
   "id": "ea3f4124",
   "metadata": {},
   "outputs": [
    {
     "data": {
      "text/plain": [
       "CodigoCliente\n",
       "13937684    231\n",
       "10359686    112\n",
       "11430868     97\n",
       "10151328     81\n",
       "10316879     69\n",
       "           ... \n",
       "12596356      1\n",
       "12596294      1\n",
       "12596293      1\n",
       "12596275      1\n",
       "14323128      1\n",
       "Length: 217343, dtype: int64"
      ]
     },
     "execution_count": 3,
     "metadata": {},
     "output_type": "execute_result"
    }
   ],
   "source": [
    "df.groupby('CodigoCliente').size().sort_values(ascending=False) # Number of orders"
   ]
  },
  {
   "cell_type": "code",
   "execution_count": 4,
   "id": "b1685692",
   "metadata": {},
   "outputs": [
    {
     "data": {
      "text/plain": [
       "CodigoCliente\n",
       "14048190    5100.000000\n",
       "12719444    3840.000000\n",
       "12291643    3756.500000\n",
       "11618884    3718.380952\n",
       "12549492    3240.000000\n",
       "12404538    3213.772727\n",
       "12291291    3202.000000\n",
       "12282136    3136.800000\n",
       "13778771    3072.000000\n",
       "13876309    3000.000000\n",
       "Name: ordered_boxes, dtype: float64"
      ]
     },
     "execution_count": 4,
     "metadata": {},
     "output_type": "execute_result"
    }
   ],
   "source": [
    "df.groupby('CodigoCliente')['ordered_boxes'].mean().sort_values(ascending=False).head(10)"
   ]
  },
  {
   "cell_type": "code",
   "execution_count": 5,
   "id": "9b7d008b",
   "metadata": {},
   "outputs": [],
   "source": [
    "\n",
    "medellin = (6.251290,-75.5812)\n",
    "bogota = (4.6100,-74.0833)"
   ]
  },
  {
   "cell_type": "code",
   "execution_count": 6,
   "id": "b89e9dea",
   "metadata": {},
   "outputs": [],
   "source": [
    "from math import radians, cos, sin, asin, sqrt\n",
    "\n",
    "def haversine_own(lon1, lat1, lon2, lat2):\n",
    "    lat1, lon1, lat2, lon2 = map(radians, [lat1, lon1, lat2, lon2])\n",
    "    dlon = lon2 - lon1\n",
    "    dlat = lat2 - lat1\n",
    "    a = sin(dlat/2)**2 + cos(lat1) * cos(lat2) * sin(dlon/2)**2\n",
    "    c = 2 * asin(sqrt(a))\n",
    "    r = 6371  # Earth radius in km\n",
    "    return c * r\n"
   ]
  },
  {
   "cell_type": "code",
   "execution_count": 7,
   "id": "f698c26f",
   "metadata": {},
   "outputs": [
    {
     "data": {
      "text/plain": [
       "173.25259469854674"
      ]
     },
     "execution_count": 7,
     "metadata": {},
     "output_type": "execute_result"
    }
   ],
   "source": [
    "haversine_own(6.251290, -75.5812, 4.6100, -74.0833) # Medellin to Bogota"
   ]
  },
  {
   "cell_type": "code",
   "execution_count": 8,
   "id": "99782f5c",
   "metadata": {},
   "outputs": [
    {
     "data": {
      "text/plain": [
       "246.57451679533824"
      ]
     },
     "execution_count": 8,
     "metadata": {},
     "output_type": "execute_result"
    }
   ],
   "source": [
    "from haversine import haversine, Unit\n",
    "medellin = (6.251290,-75.5812)\n",
    "bogota = (4.6100,-74.0833)\n",
    "# This one is correct, ours isn't\n",
    "haversine(medellin, bogota, unit=Unit.KILOMETERS) # Medellin to Bogota"
   ]
  },
  {
   "cell_type": "code",
   "execution_count": 9,
   "id": "73603a78",
   "metadata": {},
   "outputs": [
    {
     "name": "stderr",
     "output_type": "stream",
     "text": [
      "/Users/amelie/Library/CloudStorage/OneDrive-epfl.ch/04_Operations/project/.venv/lib/python3.9/site-packages/urllib3/__init__.py:35: NotOpenSSLWarning: urllib3 v2 only supports OpenSSL 1.1.1+, currently the 'ssl' module is compiled with 'LibreSSL 2.8.3'. See: https://github.com/urllib3/urllib3/issues/3020\n",
      "  warnings.warn(\n"
     ]
    },
    {
     "name": "stdout",
     "output_type": "stream",
     "text": [
      "Distance: 415.69 km\n",
      "Duration: 6.4 h\n"
     ]
    }
   ],
   "source": [
    "import requests\n",
    "\n",
    "url = \"https://router.project-osrm.org/route/v1/driving/-74.0833,4.6100;-75.5812,6.251290?overview=false\" # driving makes it sure it's the car\n",
    "\n",
    "response = requests.get(url)\n",
    "data = response.json()\n",
    "\n",
    "distance_km = data['routes'][0]['distance'] / 1000  # in km\n",
    "duration_h = data['routes'][0]['duration'] / 3600   # in minutes\n",
    "\n",
    "print(f\"Distance: {distance_km:.2f} km\")\n",
    "print(f\"Duration: {duration_h:.1f} h\")"
   ]
  },
  {
   "cell_type": "code",
   "execution_count": 10,
   "id": "0ec6d2d1",
   "metadata": {},
   "outputs": [
    {
     "data": {
      "text/plain": [
       "(415.686, 6.407722222222222)"
      ]
     },
     "execution_count": 10,
     "metadata": {},
     "output_type": "execute_result"
    }
   ],
   "source": [
    "def get_distance(frm, to):\n",
    "    \"\"\"Takes two points in the form of (lat, lon) and returns the distance and duration between them.\"\"\"\n",
    "    url = f\"https://router.project-osrm.org/route/v1/driving/{frm[1]},{frm[0]};{to[1]},{to[0]}?overview=false\"\n",
    "    response = requests.get(url)\n",
    "    data = response.json()\n",
    "    distance_km = data['routes'][0]['distance'] / 1000  # in km\n",
    "    duration_h = data['routes'][0]['duration'] / 3600   # in h\n",
    "    return distance_km, duration_h\n",
    "\n",
    "get_distance(bogota, medellin) # Medellin to Bogota"
   ]
  },
  {
   "cell_type": "code",
   "execution_count": 25,
   "id": "ca7fc550",
   "metadata": {},
   "outputs": [
    {
     "data": {
      "text/plain": [
       "(415.686, 6.407722222222222)"
      ]
     },
     "execution_count": 25,
     "metadata": {},
     "output_type": "execute_result"
    }
   ],
   "source": [
    "import utils\n",
    "utils.get_distance(bogota, medellin) # Medellin to Bogota"
   ]
  },
  {
   "cell_type": "code",
   "execution_count": 11,
   "id": "1c90f715",
   "metadata": {},
   "outputs": [],
   "source": [
    "test = df.head(10)"
   ]
  },
  {
   "cell_type": "code",
   "execution_count": 12,
   "id": "19d11dc0",
   "metadata": {},
   "outputs": [
    {
     "name": "stderr",
     "output_type": "stream",
     "text": [
      "/var/folders/t8/crqx384x59sbfjcs2flq1d380000gn/T/ipykernel_33162/312598344.py:1: SettingWithCopyWarning: \n",
      "A value is trying to be set on a copy of a slice from a DataFrame.\n",
      "Try using .loc[row_indexer,col_indexer] = value instead\n",
      "\n",
      "See the caveats in the documentation: https://pandas.pydata.org/pandas-docs/stable/user_guide/indexing.html#returning-a-view-versus-a-copy\n",
      "  test['lat'] = [4.6100,6.251290] * 5\n",
      "/var/folders/t8/crqx384x59sbfjcs2flq1d380000gn/T/ipykernel_33162/312598344.py:2: SettingWithCopyWarning: \n",
      "A value is trying to be set on a copy of a slice from a DataFrame.\n",
      "Try using .loc[row_indexer,col_indexer] = value instead\n",
      "\n",
      "See the caveats in the documentation: https://pandas.pydata.org/pandas-docs/stable/user_guide/indexing.html#returning-a-view-versus-a-copy\n",
      "  test['long'] = [-74.0833, -75.5812] * 5\n"
     ]
    }
   ],
   "source": [
    "test['lat'] = [4.6100,6.251290] * 5\n",
    "test['long'] = [-74.0833, -75.5812] * 5"
   ]
  },
  {
   "cell_type": "code",
   "execution_count": 13,
   "id": "8be07b92",
   "metadata": {},
   "outputs": [
    {
     "data": {
      "text/html": [
       "<div>\n",
       "<style scoped>\n",
       "    .dataframe tbody tr th:only-of-type {\n",
       "        vertical-align: middle;\n",
       "    }\n",
       "\n",
       "    .dataframe tbody tr th {\n",
       "        vertical-align: top;\n",
       "    }\n",
       "\n",
       "    .dataframe thead th {\n",
       "        text-align: right;\n",
       "    }\n",
       "</style>\n",
       "<table border=\"1\" class=\"dataframe\">\n",
       "  <thead>\n",
       "    <tr style=\"text-align: right;\">\n",
       "      <th></th>\n",
       "      <th>FechaPlanInicioTransporte</th>\n",
       "      <th>RegionalDistribucion</th>\n",
       "      <th>IDCentro</th>\n",
       "      <th>CodigoCliente</th>\n",
       "      <th>DocumentoTransporte</th>\n",
       "      <th>Ordered_vol</th>\n",
       "      <th>ordered_boxes</th>\n",
       "      <th>Plan_Vol</th>\n",
       "      <th>plan_boxes</th>\n",
       "      <th>lat</th>\n",
       "      <th>long</th>\n",
       "    </tr>\n",
       "  </thead>\n",
       "  <tbody>\n",
       "    <tr>\n",
       "      <th>0</th>\n",
       "      <td>2025-03-18</td>\n",
       "      <td>Sur</td>\n",
       "      <td>AV46</td>\n",
       "      <td>11645498</td>\n",
       "      <td>8007789767</td>\n",
       "      <td>5.370000</td>\n",
       "      <td>50.00</td>\n",
       "      <td>5.370000</td>\n",
       "      <td>50.00</td>\n",
       "      <td>4.61000</td>\n",
       "      <td>-74.0833</td>\n",
       "    </tr>\n",
       "    <tr>\n",
       "      <th>1</th>\n",
       "      <td>2025-03-01</td>\n",
       "      <td>Centro</td>\n",
       "      <td>AV47</td>\n",
       "      <td>12307950</td>\n",
       "      <td>8007759726</td>\n",
       "      <td>1.154175</td>\n",
       "      <td>12.02</td>\n",
       "      <td>1.154175</td>\n",
       "      <td>12.02</td>\n",
       "      <td>6.25129</td>\n",
       "      <td>-75.5812</td>\n",
       "    </tr>\n",
       "    <tr>\n",
       "      <th>2</th>\n",
       "      <td>2025-03-06</td>\n",
       "      <td>Centro</td>\n",
       "      <td>AV26</td>\n",
       "      <td>13212774</td>\n",
       "      <td>8007767993</td>\n",
       "      <td>0.198000</td>\n",
       "      <td>2.00</td>\n",
       "      <td>0.198000</td>\n",
       "      <td>2.00</td>\n",
       "      <td>4.61000</td>\n",
       "      <td>-74.0833</td>\n",
       "    </tr>\n",
       "    <tr>\n",
       "      <th>3</th>\n",
       "      <td>2025-03-31</td>\n",
       "      <td>Norte</td>\n",
       "      <td>AV39</td>\n",
       "      <td>12946586</td>\n",
       "      <td>8007816302</td>\n",
       "      <td>9.993750</td>\n",
       "      <td>102.25</td>\n",
       "      <td>9.993750</td>\n",
       "      <td>102.25</td>\n",
       "      <td>6.25129</td>\n",
       "      <td>-75.5812</td>\n",
       "    </tr>\n",
       "    <tr>\n",
       "      <th>4</th>\n",
       "      <td>2025-03-18</td>\n",
       "      <td>Norte</td>\n",
       "      <td>AV76</td>\n",
       "      <td>10373066</td>\n",
       "      <td>8007789124</td>\n",
       "      <td>0.723120</td>\n",
       "      <td>8.25</td>\n",
       "      <td>0.723120</td>\n",
       "      <td>8.25</td>\n",
       "      <td>4.61000</td>\n",
       "      <td>-74.0833</td>\n",
       "    </tr>\n",
       "    <tr>\n",
       "      <th>5</th>\n",
       "      <td>2025-03-20</td>\n",
       "      <td>Norte</td>\n",
       "      <td>AV69</td>\n",
       "      <td>10306511</td>\n",
       "      <td>8007794868</td>\n",
       "      <td>0.399000</td>\n",
       "      <td>6.00</td>\n",
       "      <td>0.399000</td>\n",
       "      <td>6.00</td>\n",
       "      <td>6.25129</td>\n",
       "      <td>-75.5812</td>\n",
       "    </tr>\n",
       "    <tr>\n",
       "      <th>6</th>\n",
       "      <td>2025-03-01</td>\n",
       "      <td>Norte</td>\n",
       "      <td>AV76</td>\n",
       "      <td>10383629</td>\n",
       "      <td>8007759581</td>\n",
       "      <td>1.596000</td>\n",
       "      <td>16.20</td>\n",
       "      <td>1.596000</td>\n",
       "      <td>16.20</td>\n",
       "      <td>4.61000</td>\n",
       "      <td>-74.0833</td>\n",
       "    </tr>\n",
       "    <tr>\n",
       "      <th>7</th>\n",
       "      <td>2025-03-20</td>\n",
       "      <td>Sur</td>\n",
       "      <td>AV18</td>\n",
       "      <td>13682698</td>\n",
       "      <td>8007794068</td>\n",
       "      <td>0.570000</td>\n",
       "      <td>6.00</td>\n",
       "      <td>0.570000</td>\n",
       "      <td>6.00</td>\n",
       "      <td>6.25129</td>\n",
       "      <td>-75.5812</td>\n",
       "    </tr>\n",
       "    <tr>\n",
       "      <th>8</th>\n",
       "      <td>2025-03-12</td>\n",
       "      <td>Centro</td>\n",
       "      <td>AV04</td>\n",
       "      <td>11413970</td>\n",
       "      <td>8007778595</td>\n",
       "      <td>0.891000</td>\n",
       "      <td>9.00</td>\n",
       "      <td>0.891000</td>\n",
       "      <td>9.00</td>\n",
       "      <td>4.61000</td>\n",
       "      <td>-74.0833</td>\n",
       "    </tr>\n",
       "    <tr>\n",
       "      <th>9</th>\n",
       "      <td>2025-03-26</td>\n",
       "      <td>Andes</td>\n",
       "      <td>AV22</td>\n",
       "      <td>13167431</td>\n",
       "      <td>8007804633</td>\n",
       "      <td>1.312000</td>\n",
       "      <td>12.00</td>\n",
       "      <td>1.312000</td>\n",
       "      <td>12.00</td>\n",
       "      <td>6.25129</td>\n",
       "      <td>-75.5812</td>\n",
       "    </tr>\n",
       "  </tbody>\n",
       "</table>\n",
       "</div>"
      ],
      "text/plain": [
       "  FechaPlanInicioTransporte RegionalDistribucion IDCentro  CodigoCliente  \\\n",
       "0                2025-03-18                  Sur     AV46       11645498   \n",
       "1                2025-03-01               Centro     AV47       12307950   \n",
       "2                2025-03-06               Centro     AV26       13212774   \n",
       "3                2025-03-31                Norte     AV39       12946586   \n",
       "4                2025-03-18                Norte     AV76       10373066   \n",
       "5                2025-03-20                Norte     AV69       10306511   \n",
       "6                2025-03-01                Norte     AV76       10383629   \n",
       "7                2025-03-20                  Sur     AV18       13682698   \n",
       "8                2025-03-12               Centro     AV04       11413970   \n",
       "9                2025-03-26                Andes     AV22       13167431   \n",
       "\n",
       "   DocumentoTransporte  Ordered_vol  ordered_boxes  Plan_Vol  plan_boxes  \\\n",
       "0           8007789767     5.370000          50.00  5.370000       50.00   \n",
       "1           8007759726     1.154175          12.02  1.154175       12.02   \n",
       "2           8007767993     0.198000           2.00  0.198000        2.00   \n",
       "3           8007816302     9.993750         102.25  9.993750      102.25   \n",
       "4           8007789124     0.723120           8.25  0.723120        8.25   \n",
       "5           8007794868     0.399000           6.00  0.399000        6.00   \n",
       "6           8007759581     1.596000          16.20  1.596000       16.20   \n",
       "7           8007794068     0.570000           6.00  0.570000        6.00   \n",
       "8           8007778595     0.891000           9.00  0.891000        9.00   \n",
       "9           8007804633     1.312000          12.00  1.312000       12.00   \n",
       "\n",
       "       lat     long  \n",
       "0  4.61000 -74.0833  \n",
       "1  6.25129 -75.5812  \n",
       "2  4.61000 -74.0833  \n",
       "3  6.25129 -75.5812  \n",
       "4  4.61000 -74.0833  \n",
       "5  6.25129 -75.5812  \n",
       "6  4.61000 -74.0833  \n",
       "7  6.25129 -75.5812  \n",
       "8  4.61000 -74.0833  \n",
       "9  6.25129 -75.5812  "
      ]
     },
     "execution_count": 13,
     "metadata": {},
     "output_type": "execute_result"
    }
   ],
   "source": [
    "test"
   ]
  },
  {
   "cell_type": "code",
   "execution_count": 15,
   "id": "a4b6836a",
   "metadata": {},
   "outputs": [],
   "source": [
    "from itertools import product\n",
    "coords = list(set(zip(test['lat'], test['long'])))\n",
    "coord_labels = [f\"{lat:.5f},{lon:.5f}\" for lat, lon in coords]\n",
    "coord_map = dict(zip(coord_labels, coords))  # map label to (lat, lon)\n",
    "\n",
    "# Initialize empty matrices\n",
    "distance_matrix = pd.DataFrame(index=coord_labels, columns=coord_labels)\n",
    "time_matrix = pd.DataFrame(index=coord_labels, columns=coord_labels)\n",
    "\n",
    "# Compute distances and times\n",
    "for from_label, to_label in product(coord_labels, repeat=2):\n",
    "    from_coord = coord_map[from_label]\n",
    "    to_coord = coord_map[to_label]\n",
    "    dist, duration = get_distance(from_coord, to_coord)\n",
    "    distance_matrix.loc[from_label, to_label] = round(dist, 2)\n",
    "    time_matrix.loc[from_label, to_label] = round(duration, 2)\n",
    "    "
   ]
  },
  {
   "cell_type": "code",
   "execution_count": 16,
   "id": "f8626c08",
   "metadata": {},
   "outputs": [
    {
     "data": {
      "text/html": [
       "<div>\n",
       "<style scoped>\n",
       "    .dataframe tbody tr th:only-of-type {\n",
       "        vertical-align: middle;\n",
       "    }\n",
       "\n",
       "    .dataframe tbody tr th {\n",
       "        vertical-align: top;\n",
       "    }\n",
       "\n",
       "    .dataframe thead th {\n",
       "        text-align: right;\n",
       "    }\n",
       "</style>\n",
       "<table border=\"1\" class=\"dataframe\">\n",
       "  <thead>\n",
       "    <tr style=\"text-align: right;\">\n",
       "      <th></th>\n",
       "      <th>6.25129,-75.58120</th>\n",
       "      <th>4.61000,-74.08330</th>\n",
       "    </tr>\n",
       "  </thead>\n",
       "  <tbody>\n",
       "    <tr>\n",
       "      <th>6.25129,-75.58120</th>\n",
       "      <td>0.0</td>\n",
       "      <td>405.73</td>\n",
       "    </tr>\n",
       "    <tr>\n",
       "      <th>4.61000,-74.08330</th>\n",
       "      <td>415.69</td>\n",
       "      <td>0.0</td>\n",
       "    </tr>\n",
       "  </tbody>\n",
       "</table>\n",
       "</div>"
      ],
      "text/plain": [
       "                  6.25129,-75.58120 4.61000,-74.08330\n",
       "6.25129,-75.58120               0.0            405.73\n",
       "4.61000,-74.08330            415.69               0.0"
      ]
     },
     "execution_count": 16,
     "metadata": {},
     "output_type": "execute_result"
    }
   ],
   "source": [
    "distance_matrix\n"
   ]
  },
  {
   "cell_type": "code",
   "execution_count": null,
   "id": "7f3f64af",
   "metadata": {},
   "outputs": [],
   "source": []
  }
 ],
 "metadata": {
  "kernelspec": {
   "display_name": ".venv",
   "language": "python",
   "name": "python3"
  },
  "language_info": {
   "codemirror_mode": {
    "name": "ipython",
    "version": 3
   },
   "file_extension": ".py",
   "mimetype": "text/x-python",
   "name": "python",
   "nbconvert_exporter": "python",
   "pygments_lexer": "ipython3",
   "version": "3.9.6"
  }
 },
 "nbformat": 4,
 "nbformat_minor": 5
}
